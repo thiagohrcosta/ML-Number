{
  "nbformat": 4,
  "nbformat_minor": 0,
  "metadata": {
    "colab": {
      "provenance": [],
      "authorship_tag": "ABX9TyN7GfgRLBX5YLe+6AXBBxJr",
      "include_colab_link": true
    },
    "kernelspec": {
      "name": "python3",
      "display_name": "Python 3"
    },
    "language_info": {
      "name": "python"
    }
  },
  "cells": [
    {
      "cell_type": "markdown",
      "metadata": {
        "id": "view-in-github",
        "colab_type": "text"
      },
      "source": [
        "<a href=\"https://colab.research.google.com/github/thiagohrcosta/ML-Number/blob/main/ml_number.ipynb\" target=\"_parent\"><img src=\"https://colab.research.google.com/assets/colab-badge.svg\" alt=\"Open In Colab\"/></a>"
      ]
    },
    {
      "cell_type": "code",
      "execution_count": 1,
      "metadata": {
        "colab": {
          "base_uri": "https://localhost:8080/"
        },
        "id": "cXF2WBa75rgi",
        "outputId": "75a032aa-6e35-435e-aee2-1bb75e12dc07"
      },
      "outputs": [
        {
          "output_type": "stream",
          "name": "stdout",
          "text": [
            "Collecting utils\n",
            "  Downloading utils-1.0.2.tar.gz (13 kB)\n",
            "  Preparing metadata (setup.py) ... \u001b[?25l\u001b[?25hdone\n",
            "Building wheels for collected packages: utils\n",
            "  Building wheel for utils (setup.py) ... \u001b[?25l\u001b[?25hdone\n",
            "  Created wheel for utils: filename=utils-1.0.2-py2.py3-none-any.whl size=13906 sha256=85bb3ca89bf52575eefb7994c509299854002ac79cfc8eb8c423ec2be193a74e\n",
            "  Stored in directory: /root/.cache/pip/wheels/b8/39/f5/9d0ca31dba85773ececf0a7f5469f18810e1c8a8ed9da28ca7\n",
            "Successfully built utils\n",
            "Installing collected packages: utils\n",
            "Successfully installed utils-1.0.2\n"
          ]
        }
      ],
      "source": [
        "!pip install utils\n",
        "import numpy\n",
        "from matplotlib import pyplot as plt\n",
        "\n",
        "from keras.datasets import mnist\n",
        "from keras.models import Sequential\n",
        "from keras.layers import Dense, InputLayer\n",
        "from keras.layers import Dropout\n",
        "from keras.utils import to_categorical\n"
      ]
    },
    {
      "cell_type": "code",
      "source": [
        "# loading the Mnist dataset from Keras\n",
        "(X_train, y_train), (X_test, y_test) = mnist.load_data()"
      ],
      "metadata": {
        "id": "6xSez_AI7ChQ",
        "colab": {
          "base_uri": "https://localhost:8080/"
        },
        "outputId": "0e8d05ef-5da6-4336-dfee-02232849a90e"
      },
      "execution_count": 2,
      "outputs": [
        {
          "output_type": "stream",
          "name": "stdout",
          "text": [
            "Downloading data from https://storage.googleapis.com/tensorflow/tf-keras-datasets/mnist.npz\n",
            "11490434/11490434 [==============================] - 0s 0us/step\n"
          ]
        }
      ]
    },
    {
      "cell_type": "code",
      "source": [
        "# Print the vector size\n",
        "print(X_train.shape)"
      ],
      "metadata": {
        "colab": {
          "base_uri": "https://localhost:8080/"
        },
        "id": "n7Un9WWS8J_s",
        "outputId": "6ad2180e-8611-42eb-92ce-08abb5f75012"
      },
      "execution_count": 3,
      "outputs": [
        {
          "output_type": "stream",
          "name": "stdout",
          "text": [
            "(60000, 28, 28)\n"
          ]
        }
      ]
    },
    {
      "cell_type": "code",
      "source": [
        "first_image = X_train[1000]\n",
        "first_image = numpy.array(first_image, dtype='float')\n",
        "pixels = first_image.reshape((28, 28))\n",
        "plt.imshow(pixels, cmap='gray')\n",
        "plt.show()"
      ],
      "metadata": {
        "colab": {
          "base_uri": "https://localhost:8080/",
          "height": 430
        },
        "id": "M_sg7v188LWe",
        "outputId": "6be5b684-a122-4efa-e607-b1ad85014fe1"
      },
      "execution_count": 4,
      "outputs": [
        {
          "output_type": "display_data",
          "data": {
            "text/plain": [
              "<Figure size 640x480 with 1 Axes>"
            ],
            "image/png": "[encoded data removed]"
          },
          "metadata": {}
        }
      ]
    },
    {
      "cell_type": "code",
      "source": [
        "# Answer\n",
        "print(y_train[1000])"
      ],
      "metadata": {
        "colab": {
          "base_uri": "https://localhost:8080/"
        },
        "id": "WHGH8zsV8bb2",
        "outputId": "769a2744-42d6-48e2-fd69-b132af0381d1"
      },
      "execution_count": 5,
      "outputs": [
        {
          "output_type": "stream",
          "name": "stdout",
          "text": [
            "0\n"
          ]
        }
      ]
    },
    {
      "cell_type": "code",
      "source": [
        "# pixel total sum\n",
        "num_pixels = X_train.shape[1] * X_train.shape[2]\n",
        "print(num_pixels)"
      ],
      "metadata": {
        "colab": {
          "base_uri": "https://localhost:8080/"
        },
        "id": "r2DYy_Mm8xd-",
        "outputId": "80d1f864-5d3c-4a02-aa2d-6cb49b7bc623"
      },
      "execution_count": 6,
      "outputs": [
        {
          "output_type": "stream",
          "name": "stdout",
          "text": [
            "784\n"
          ]
        }
      ]
    },
    {
      "cell_type": "code",
      "source": [
        "# Transform pixels\n",
        "X_train2 = X_train.reshape(X_train.shape[0], num_pixels).astype('float32')\n",
        "X_test2 = X_test.reshape(X_test.shape[0], num_pixels).astype('float32')"
      ],
      "metadata": {
        "id": "fKMZHOC4Gn0j"
      },
      "execution_count": 7,
      "outputs": []
    },
    {
      "cell_type": "code",
      "source": [
        "print(first_image)"
      ],
      "metadata": {
        "colab": {
          "base_uri": "https://localhost:8080/"
        },
        "id": "l7wiOq3rHiAq",
        "outputId": "692941db-cc52-43c0-df1b-ec1070d2834b"
      },
      "execution_count": 8,
      "outputs": [
        {
          "output_type": "stream",
          "name": "stdout",
          "text": [
            "[[  0.   0.   0.   0.   0.   0.   0.   0.   0.   0.   0.   0.   0.   0.\n",
            "    0.   0.   0.   0.   0.   0.   0.   0.   0.   0.   0.   0.   0.   0.]\n",
            " [  0.   0.   0.   0.   0.   0.   0.   0.   0.   0.   0.   0.   0.   0.\n",
            "    0.   0.   0.   0.   0.   0.   0.   0.   0.   0.   0.   0.   0.   0.]\n",
            " [  0.   0.   0.   0.   0.   0.   0.   0.   0.   0.   0.   0.   0.   0.\n",
            "    0.   0.   0.   0.   0.   0.   0.   0.   0.   0.   0.   0.   0.   0.]\n",
            " [  0.   0.   0.   0.   0.   0.   0.   0.   0.   0.   0.   0.   0.   0.\n",
            "    0.   0.   0.   0.   0.   0.   0.   0.   0.   0.   0.   0.   0.   0.]\n",
            " [  0.   0.   0.   0.   0.   0.   0.   0.   0.   0.   0.   0.   0.   0.\n",
            "    0.   0.   0.   0.   0.   0.   0.   0.   0.   0.   0.   0.   0.   0.]\n",
            " [  0.   0.   0.   0.   0.   0.   0.   0.   0.   0.   0.   0.   0.   0.\n",
            "   36. 146. 254. 255. 251.  95.   6.   0.   0.   0.   0.   0.   0.   0.]\n",
            " [  0.   0.   0.   0.   0.   0.   0.   0.   0.   0.   0.   0.   3.  97.\n",
            "  234. 254. 254. 232. 254. 254.  35.   0.   0.   0.   0.   0.   0.   0.]\n",
            " [  0.   0.   0.   0.   0.   0.   0.   0.   0.   0.   0.  89. 140. 254.\n",
            "  254. 174.  67.  33. 200. 254. 190.   0.   0.   0.   0.   0.   0.   0.]\n",
            " [  0.   0.   0.   0.   0.   0.   0.   0.   0.   0. 108. 253. 254. 235.\n",
            "   51.   1.   0.   0.  12. 254. 253.  56.   0.   0.   0.   0.   0.   0.]\n",
            " [  0.   0.   0.   0.   0.   0.   0.   0.   0.  12. 216. 254. 244.  55.\n",
            "    0.   0.   0.   0.   6. 213. 254.  57.   0.   0.   0.   0.   0.   0.]\n",
            " [  0.   0.   0.   0.   0.   0.   0.   0.   0.  25. 254. 254. 132.   0.\n",
            "    0.   0.   0.   0.   0. 168. 254.  57.   0.   0.   0.   0.   0.   0.]\n",
            " [  0.   0.   0.   0.   0.   0.   0.   0.   0.  45. 254. 243.  34.   0.\n",
            "    0.   0.   0.   0.   0. 168. 254.  57.   0.   0.   0.   0.   0.   0.]\n",
            " [  0.   0.   0.   0.   0.   0.   0.   0.   0. 128. 254. 157.   0.   0.\n",
            "    0.   0.   0.   0.   0. 168. 254.  57.   0.   0.   0.   0.   0.   0.]\n",
            " [  0.   0.   0.   0.   0.   0.   0.   0.  19. 228. 254. 105.   0.   0.\n",
            "    0.   0.   0.   0.   7. 228. 254.  57.   0.   0.   0.   0.   0.   0.]\n",
            " [  0.   0.   0.   0.   0.   0.   0.   0.  58. 254. 254.  87.   0.   0.\n",
            "    0.   0.   0.   0.  10. 254. 246.  47.   0.   0.   0.   0.   0.   0.]\n",
            " [  0.   0.   0.   0.   0.   0.   0.   0.  58. 254. 254.   9.   0.   0.\n",
            "    0.   0.   0.   0.  10. 254. 210.   0.   0.   0.   0.   0.   0.   0.]\n",
            " [  0.   0.   0.   0.   0.   0.   0.   0.  58. 254. 254.   9.   0.   0.\n",
            "    0.   0.   0.   0. 105. 254.  91.   0.   0.   0.   0.   0.   0.   0.]\n",
            " [  0.   0.   0.   0.   0.   0.   0.   0.   5. 219. 254.   9.   0.   0.\n",
            "    0.   0.   0.  24. 230. 254.  24.   0.   0.   0.   0.   0.   0.   0.]\n",
            " [  0.   0.   0.   0.   0.   0.   0.   0.   0. 216. 254.   9.   0.   0.\n",
            "    0.   0.   0.  84. 254. 251.  23.   0.   0.   0.   0.   0.   0.   0.]\n",
            " [  0.   0.   0.   0.   0.   0.   0.   0.   0. 216. 254.  36.   0.   0.\n",
            "    0.   0.  22. 208. 251.  94.   0.   0.   0.   0.   0.   0.   0.   0.]\n",
            " [  0.   0.   0.   0.   0.   0.   0.   0.   0. 129. 254. 120.   0.   0.\n",
            "    0.   3. 140. 254. 229.   0.   0.   0.   0.   0.   0.   0.   0.   0.]\n",
            " [  0.   0.   0.   0.   0.   0.   0.   0.   0.  83. 254. 222.  17.   0.\n",
            "    0.  91. 254. 236.  53.   0.   0.   0.   0.   0.   0.   0.   0.   0.]\n",
            " [  0.   0.   0.   0.   0.   0.   0.   0.   0.  18. 235. 254. 134.  21.\n",
            "  119. 237. 254. 124.   0.   0.   0.   0.   0.   0.   0.   0.   0.   0.]\n",
            " [  0.   0.   0.   0.   0.   0.   0.   0.   0.   0.  53. 249. 254. 234.\n",
            "  252. 254. 172.   3.   0.   0.   0.   0.   0.   0.   0.   0.   0.   0.]\n",
            " [  0.   0.   0.   0.   0.   0.   0.   0.   0.   0.   0. 116. 237. 254.\n",
            "  254. 133.  20.   0.   0.   0.   0.   0.   0.   0.   0.   0.   0.   0.]\n",
            " [  0.   0.   0.   0.   0.   0.   0.   0.   0.   0.   0.   0.   0.   0.\n",
            "    0.   0.   0.   0.   0.   0.   0.   0.   0.   0.   0.   0.   0.   0.]\n",
            " [  0.   0.   0.   0.   0.   0.   0.   0.   0.   0.   0.   0.   0.   0.\n",
            "    0.   0.   0.   0.   0.   0.   0.   0.   0.   0.   0.   0.   0.   0.]\n",
            " [  0.   0.   0.   0.   0.   0.   0.   0.   0.   0.   0.   0.   0.   0.\n",
            "    0.   0.   0.   0.   0.   0.   0.   0.   0.   0.   0.   0.   0.   0.]]\n"
          ]
        }
      ]
    },
    {
      "cell_type": "code",
      "source": [
        "# Transform values to 0 and 1\n",
        "X_train2 = X_train2 / 255\n",
        "X_test2 = X_test2 / 255"
      ],
      "metadata": {
        "id": "adCrOU_wHpen"
      },
      "execution_count": 9,
      "outputs": []
    },
    {
      "cell_type": "code",
      "source": [
        "print(X_train2[100])"
      ],
      "metadata": {
        "colab": {
          "base_uri": "https://localhost:8080/"
        },
        "id": "FFhE91CgIAgZ",
        "outputId": "f5a26d6f-0f56-4949-cd3b-9ab68ca216ba"
      },
      "execution_count": 10,
      "outputs": [
        {
          "output_type": "stream",
          "name": "stdout",
          "text": [
            "[0.         0.         0.         0.         0.         0.\n",
            " 0.         0.         0.         0.         0.         0.\n",
            " 0.         0.         0.         0.         0.         0.\n",
            " 0.         0.         0.         0.         0.         0.\n",
            " 0.         0.         0.         0.         0.         0.\n",
            " 0.         0.         0.         0.         0.         0.\n",
            " 0.         0.         0.         0.         0.         0.\n",
            " 0.         0.         0.         0.         0.         0.\n",
            " 0.         0.         0.         0.         0.         0.\n",
            " 0.         0.         0.         0.         0.         0.\n",
            " 0.         0.         0.         0.         0.         0.\n",
            " 0.         0.         0.         0.         0.         0.\n",
            " 0.         0.         0.         0.         0.         0.\n",
            " 0.         0.         0.         0.         0.         0.\n",
            " 0.         0.         0.         0.         0.         0.\n",
            " 0.         0.         0.         0.         0.         0.\n",
            " 0.         0.         0.         0.         0.         0.\n",
            " 0.         0.         0.         0.         0.         0.\n",
            " 0.         0.         0.         0.         0.         0.\n",
            " 0.         0.         0.         0.         0.         0.\n",
            " 0.         0.         0.         0.         0.         0.\n",
            " 0.         0.         0.         0.         0.         0.\n",
            " 0.         0.         0.         0.         0.         0.\n",
            " 0.         0.         0.         0.         0.         0.\n",
            " 0.         0.         0.         0.         0.         0.\n",
            " 0.         0.         0.         0.         0.         0.\n",
            " 0.         0.         0.         0.         0.         0.\n",
            " 0.         0.         0.         0.         0.         0.\n",
            " 0.         0.         0.         0.         0.         0.\n",
            " 0.         0.         0.         0.         0.         0.\n",
            " 0.         0.00784314 0.07058824 0.18039216 0.53333336 0.53333336\n",
            " 0.95686275 1.         0.94509804 0.40392157 0.         0.\n",
            " 0.         0.         0.         0.         0.         0.\n",
            " 0.         0.         0.         0.         0.         0.\n",
            " 0.         0.         0.         0.05882353 0.36862746 0.6392157\n",
            " 0.99215686 0.99215686 0.99215686 0.99215686 0.93333334 0.85490197\n",
            " 0.8        0.13725491 0.         0.         0.         0.\n",
            " 0.         0.         0.         0.         0.         0.\n",
            " 0.         0.         0.         0.         0.         0.\n",
            " 0.         0.5137255  0.99215686 0.99215686 0.99215686 0.99215686\n",
            " 0.92941177 0.78431374 0.22352941 0.         0.         0.\n",
            " 0.         0.         0.         0.         0.         0.\n",
            " 0.         0.         0.         0.         0.         0.\n",
            " 0.         0.         0.         0.         0.60784316 0.9647059\n",
            " 0.99215686 0.96862745 0.42352942 0.25490198 0.1764706  0.\n",
            " 0.         0.         0.         0.         0.         0.\n",
            " 0.         0.         0.         0.         0.         0.\n",
            " 0.         0.         0.         0.         0.         0.\n",
            " 0.         0.         0.8117647  0.99215686 0.99215686 0.9019608\n",
            " 0.         0.         0.         0.         0.         0.\n",
            " 0.         0.         0.         0.         0.         0.\n",
            " 0.         0.         0.         0.         0.         0.\n",
            " 0.         0.         0.         0.         0.         0.\n",
            " 0.6156863  0.99215686 0.99215686 0.49019608 0.         0.\n",
            " 0.         0.         0.         0.         0.         0.\n",
            " 0.         0.         0.         0.         0.         0.\n",
            " 0.         0.         0.         0.         0.         0.\n",
            " 0.         0.         0.         0.         0.34901962 0.99215686\n",
            " 0.98039216 0.22352941 0.         0.         0.         0.\n",
            " 0.         0.         0.         0.         0.         0.\n",
            " 0.         0.         0.         0.         0.         0.\n",
            " 0.         0.         0.         0.         0.         0.\n",
            " 0.         0.         0.34901962 0.99215686 0.96862745 0.\n",
            " 0.         0.         0.         0.         0.         0.\n",
            " 0.         0.         0.         0.         0.         0.\n",
            " 0.         0.         0.         0.         0.         0.\n",
            " 0.         0.         0.         0.         0.         0.\n",
            " 0.34901962 0.99215686 0.96862745 0.         0.         0.\n",
            " 0.         0.         0.         0.         0.         0.\n",
            " 0.         0.         0.         0.         0.         0.\n",
            " 0.         0.         0.         0.         0.         0.\n",
            " 0.         0.         0.         0.         0.34901962 0.99215686\n",
            " 0.96862745 0.         0.         0.         0.         0.\n",
            " 0.         0.         0.         0.         0.         0.\n",
            " 0.         0.         0.         0.         0.         0.\n",
            " 0.         0.         0.         0.         0.         0.\n",
            " 0.         0.         0.08235294 0.90588236 0.9764706  0.13333334\n",
            " 0.         0.         0.         0.         0.         0.\n",
            " 0.         0.         0.         0.         0.         0.\n",
            " 0.         0.         0.         0.         0.         0.\n",
            " 0.         0.         0.         0.         0.         0.\n",
            " 0.         0.88235295 0.99215686 0.90588236 0.8352941  0.8352941\n",
            " 0.48235294 0.0627451  0.         0.         0.         0.\n",
            " 0.         0.         0.         0.         0.         0.\n",
            " 0.         0.         0.         0.         0.         0.\n",
            " 0.         0.         0.         0.         0.         0.6745098\n",
            " 0.99215686 0.99215686 0.99215686 0.99215686 0.99215686 0.74509805\n",
            " 0.24705882 0.         0.         0.         0.         0.\n",
            " 0.         0.         0.         0.         0.         0.\n",
            " 0.         0.         0.         0.         0.         0.\n",
            " 0.         0.         0.         0.00784314 0.45490196 0.28235295\n",
            " 0.4862745  0.81960785 0.99215686 0.99215686 0.5529412  0.\n",
            " 0.         0.         0.         0.         0.         0.\n",
            " 0.         0.         0.         0.         0.         0.\n",
            " 0.         0.         0.         0.         0.         0.\n",
            " 0.         0.         0.         0.         0.         0.09803922\n",
            " 0.85882354 0.99215686 0.80784315 0.01176471 0.         0.\n",
            " 0.         0.         0.         0.         0.         0.\n",
            " 0.         0.         0.         0.         0.         0.\n",
            " 0.         0.         0.         0.         0.         0.\n",
            " 0.         0.         0.         0.         0.40784314 0.9647059\n",
            " 0.99215686 0.01960784 0.         0.         0.         0.\n",
            " 0.         0.         0.         0.         0.         0.\n",
            " 0.         0.         0.         0.         0.         0.\n",
            " 0.         0.         0.         0.         0.         0.\n",
            " 0.         0.         0.         0.8352941  0.99215686 0.01960784\n",
            " 0.         0.         0.         0.         0.         0.\n",
            " 0.         0.         0.         0.         0.         0.\n",
            " 0.         0.         0.         0.         0.         0.\n",
            " 0.         0.         0.         0.         0.         0.\n",
            " 0.10196079 0.8862745  0.99215686 0.01960784 0.         0.\n",
            " 0.         0.         0.         0.         0.         0.\n",
            " 0.         0.         0.         0.         0.         0.\n",
            " 0.         0.         0.         0.         0.         0.\n",
            " 0.         0.         0.         0.         0.5176471  0.99215686\n",
            " 0.81960785 0.01176471 0.         0.         0.         0.\n",
            " 0.         0.         0.         0.         0.         0.\n",
            " 0.         0.         0.         0.         0.         0.\n",
            " 0.         0.         0.         0.         0.         0.\n",
            " 0.         0.         0.30588236 0.99215686 0.3372549  0.\n",
            " 0.         0.         0.         0.         0.         0.\n",
            " 0.         0.         0.         0.         0.         0.\n",
            " 0.         0.         0.         0.         0.         0.\n",
            " 0.         0.         0.         0.         0.         0.\n",
            " 0.         0.         0.         0.         0.         0.\n",
            " 0.         0.         0.         0.         0.         0.\n",
            " 0.         0.         0.         0.         0.         0.\n",
            " 0.         0.         0.         0.         0.         0.\n",
            " 0.         0.         0.         0.         0.         0.\n",
            " 0.         0.         0.         0.         0.         0.\n",
            " 0.         0.         0.         0.        ]\n"
          ]
        }
      ]
    },
    {
      "cell_type": "code",
      "source": [
        "# Transforming values from train\n",
        "y_train_h = to_categorical(y_train)\n",
        "y_test_h = to_categorical(y_test)\n",
        "print(y_train[1001])\n",
        "print(y_train_h[1001])"
      ],
      "metadata": {
        "colab": {
          "base_uri": "https://localhost:8080/"
        },
        "id": "tqb9VMhhICR4",
        "outputId": "7566f43e-3fad-4272-d651-6006c20f452a"
      },
      "execution_count": 11,
      "outputs": [
        {
          "output_type": "stream",
          "name": "stdout",
          "text": [
            "7\n",
            "[0. 0. 0. 0. 0. 0. 0. 1. 0. 0.]\n"
          ]
        }
      ]
    },
    {
      "cell_type": "code",
      "source": [
        "num_classes = y_test_h.shape[1]"
      ],
      "metadata": {
        "id": "8Iex8q4iIvno"
      },
      "execution_count": 12,
      "outputs": []
    },
    {
      "cell_type": "code",
      "source": [
        "# feed-forward\n",
        "model = Sequential()\n",
        "\n",
        "# Create the input layer\n",
        "model.add(InputLayer(input_shape=num_pixels))\n",
        "\n",
        "# Create the first network layer\n",
        "model.add(Dense(1024, kernel_initializer='normal', activation='relu'))\n",
        "\n",
        "# Second network layer\n",
        "model.add(Dense(2048, kernel_initializer='normal', activation='relu'))\n",
        "\n",
        "# Exit layer\n",
        "model.add(Dense(num_classes, kernel_initializer='normal', activation='softmax'))"
      ],
      "metadata": {
        "id": "lynkLDUFKYgv"
      },
      "execution_count": 13,
      "outputs": []
    },
    {
      "cell_type": "code",
      "source": [
        "# Print informations about the created model\n",
        "model.summary()"
      ],
      "metadata": {
        "colab": {
          "base_uri": "https://localhost:8080/"
        },
        "id": "glLz2Zw4S8ze",
        "outputId": "dc8bf4b6-5340-411e-d2d4-486da2a07fec"
      },
      "execution_count": 14,
      "outputs": [
        {
          "output_type": "stream",
          "name": "stdout",
          "text": [
            "Model: \"sequential\"\n",
            "_________________________________________________________________\n",
            " Layer (type)                Output Shape              Param #   \n",
            "=================================================================\n",
            " dense (Dense)               (None, 1024)              803840    \n",
            "                                                                 \n",
            " dense_1 (Dense)             (None, 2048)              2099200   \n",
            "                                                                 \n",
            " dense_2 (Dense)             (None, 10)                20490     \n",
            "                                                                 \n",
            "=================================================================\n",
            "Total params: 2923530 (11.15 MB)\n",
            "Trainable params: 2923530 (11.15 MB)\n",
            "Non-trainable params: 0 (0.00 Byte)\n",
            "_________________________________________________________________\n"
          ]
        }
      ]
    },
    {
      "cell_type": "code",
      "source": [
        "# Created model compilation\n",
        "model.compile(loss='categorical_crossentropy', optimizer='adam', metrics=['accuracy'])"
      ],
      "metadata": {
        "id": "u6ko1ZbucAqk"
      },
      "execution_count": 15,
      "outputs": []
    },
    {
      "cell_type": "code",
      "source": [
        "# Model Training\n",
        "result = model.fit(X_train2, y_train_h, validation_data=(X_test2, y_test_h), epochs=20, verbose=1, batch_size=100)\n"
      ],
      "metadata": {
        "colab": {
          "base_uri": "https://localhost:8080/"
        },
        "id": "FuWpZIRDisi2",
        "outputId": "e48abc0c-de1d-44cc-dedd-1c4c7893d765"
      },
      "execution_count": 16,
      "outputs": [
        {
          "output_type": "stream",
          "name": "stdout",
          "text": [
            "Epoch 1/20\n",
            "600/600 [==============================] - 61s 99ms/step - loss: 0.1797 - accuracy: 0.9445 - val_loss: 0.0905 - val_accuracy: 0.9702\n",
            "Epoch 2/20\n",
            "600/600 [==============================] - 55s 92ms/step - loss: 0.0698 - accuracy: 0.9782 - val_loss: 0.0769 - val_accuracy: 0.9763\n",
            "Epoch 3/20\n",
            "600/600 [==============================] - 54s 90ms/step - loss: 0.0441 - accuracy: 0.9858 - val_loss: 0.0827 - val_accuracy: 0.9766\n",
            "Epoch 4/20\n",
            "600/600 [==============================] - 53s 89ms/step - loss: 0.0379 - accuracy: 0.9871 - val_loss: 0.0884 - val_accuracy: 0.9730\n",
            "Epoch 5/20\n",
            "600/600 [==============================] - 55s 91ms/step - loss: 0.0273 - accuracy: 0.9909 - val_loss: 0.0807 - val_accuracy: 0.9793\n",
            "Epoch 6/20\n",
            "600/600 [==============================] - 55s 93ms/step - loss: 0.0256 - accuracy: 0.9915 - val_loss: 0.0916 - val_accuracy: 0.9772\n",
            "Epoch 7/20\n",
            "600/600 [==============================] - 57s 94ms/step - loss: 0.0200 - accuracy: 0.9934 - val_loss: 0.0805 - val_accuracy: 0.9803\n",
            "Epoch 8/20\n",
            "600/600 [==============================] - 56s 93ms/step - loss: 0.0213 - accuracy: 0.9932 - val_loss: 0.0800 - val_accuracy: 0.9801\n",
            "Epoch 9/20\n",
            "600/600 [==============================] - 58s 97ms/step - loss: 0.0195 - accuracy: 0.9939 - val_loss: 0.1061 - val_accuracy: 0.9769\n",
            "Epoch 10/20\n",
            "600/600 [==============================] - 56s 93ms/step - loss: 0.0161 - accuracy: 0.9949 - val_loss: 0.0916 - val_accuracy: 0.9796\n",
            "Epoch 11/20\n",
            "600/600 [==============================] - 55s 91ms/step - loss: 0.0161 - accuracy: 0.9955 - val_loss: 0.0914 - val_accuracy: 0.9816\n",
            "Epoch 12/20\n",
            "600/600 [==============================] - 54s 90ms/step - loss: 0.0116 - accuracy: 0.9963 - val_loss: 0.0947 - val_accuracy: 0.9795\n",
            "Epoch 13/20\n",
            "600/600 [==============================] - 54s 90ms/step - loss: 0.0154 - accuracy: 0.9955 - val_loss: 0.1369 - val_accuracy: 0.9737\n",
            "Epoch 14/20\n",
            "600/600 [==============================] - 55s 92ms/step - loss: 0.0138 - accuracy: 0.9961 - val_loss: 0.0998 - val_accuracy: 0.9818\n",
            "Epoch 15/20\n",
            "600/600 [==============================] - 56s 93ms/step - loss: 0.0136 - accuracy: 0.9962 - val_loss: 0.1098 - val_accuracy: 0.9808\n",
            "Epoch 16/20\n",
            "600/600 [==============================] - 55s 91ms/step - loss: 0.0100 - accuracy: 0.9970 - val_loss: 0.1285 - val_accuracy: 0.9793\n",
            "Epoch 17/20\n",
            "600/600 [==============================] - 53s 88ms/step - loss: 0.0110 - accuracy: 0.9971 - val_loss: 0.1369 - val_accuracy: 0.9800\n",
            "Epoch 18/20\n",
            "600/600 [==============================] - 53s 88ms/step - loss: 0.0135 - accuracy: 0.9962 - val_loss: 0.1221 - val_accuracy: 0.9811\n",
            "Epoch 19/20\n",
            "600/600 [==============================] - 55s 92ms/step - loss: 0.0171 - accuracy: 0.9959 - val_loss: 0.1216 - val_accuracy: 0.9797\n",
            "Epoch 20/20\n",
            "600/600 [==============================] - 56s 94ms/step - loss: 0.0098 - accuracy: 0.9974 - val_loss: 0.1173 - val_accuracy: 0.9815\n"
          ]
        }
      ]
    },
    {
      "cell_type": "code",
      "source": [],
      "metadata": {
        "id": "RnBTxBbCjOX1"
      },
      "execution_count": null,
      "outputs": []
    }
  ]
}